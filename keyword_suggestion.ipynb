{
  "nbformat": 4,
  "nbformat_minor": 0,
  "metadata": {
    "colab": {
      "provenance": []
    },
    "kernelspec": {
      "name": "python3",
      "display_name": "Python 3"
    },
    "language_info": {
      "name": "python"
    }
  },
  "cells": [
    {
      "cell_type": "markdown",
      "source": [
        "# Using SERP API"
      ],
      "metadata": {
        "id": "rN22xeELZ4OU"
      }
    },
    {
      "cell_type": "code",
      "source": [
        "!pip install google-search-results"
      ],
      "metadata": {
        "colab": {
          "base_uri": "https://localhost:8080/"
        },
        "id": "1KuAk1u799ws",
        "outputId": "41c6a111-dacf-443d-8628-e690e2066bf0"
      },
      "execution_count": 1,
      "outputs": [
        {
          "output_type": "stream",
          "name": "stdout",
          "text": [
            "Looking in indexes: https://pypi.org/simple, https://us-python.pkg.dev/colab-wheels/public/simple/\n",
            "Collecting google-search-results\n",
            "  Downloading google_search_results-2.4.1.tar.gz (11 kB)\n",
            "Requirement already satisfied: requests in /usr/local/lib/python3.7/dist-packages (from google-search-results) (2.23.0)\n",
            "Requirement already satisfied: chardet<4,>=3.0.2 in /usr/local/lib/python3.7/dist-packages (from requests->google-search-results) (3.0.4)\n",
            "Requirement already satisfied: certifi>=2017.4.17 in /usr/local/lib/python3.7/dist-packages (from requests->google-search-results) (2022.9.24)\n",
            "Requirement already satisfied: idna<3,>=2.5 in /usr/local/lib/python3.7/dist-packages (from requests->google-search-results) (2.10)\n",
            "Requirement already satisfied: urllib3!=1.25.0,!=1.25.1,<1.26,>=1.21.1 in /usr/local/lib/python3.7/dist-packages (from requests->google-search-results) (1.24.3)\n",
            "Building wheels for collected packages: google-search-results\n",
            "  Building wheel for google-search-results (setup.py) ... \u001b[?25l\u001b[?25hdone\n",
            "  Created wheel for google-search-results: filename=google_search_results-2.4.1-py3-none-any.whl size=25789 sha256=f5f3ac463c2fcc37a49a872e4260efc2555407dc880a7d5b1101f6ccd389079c\n",
            "  Stored in directory: /root/.cache/pip/wheels/82/a3/c5/364155118f298722dff2f79ae4dd7c91e92b433ad36d6f7e0e\n",
            "Successfully built google-search-results\n",
            "Installing collected packages: google-search-results\n",
            "Successfully installed google-search-results-2.4.1\n"
          ]
        }
      ]
    },
    {
      "cell_type": "code",
      "source": [
        "import requests\n",
        "import urllib\n",
        "from serpapi import GoogleSearch\n",
        "import json\n",
        "import pandas as pd"
      ],
      "metadata": {
        "id": "9cgQZLwBzdRH"
      },
      "execution_count": 2,
      "outputs": []
    },
    {
      "cell_type": "code",
      "source": [
        "query = \"Нақты сан\"\n",
        "url = \"https://www.google.com/complete/search?q=\"+query+\"&cp=8&client=gws-wiz-serp&xssi=t&hl=en-KZ&authuser=0&pq=something&psi=hu51Y_T7KIf8qwHllq2IBg.1668673160379&dpr=1.5&callback=whatever\"\n",
        "response = requests.get(url)\n",
        "print(response.status_code)"
      ],
      "metadata": {
        "colab": {
          "base_uri": "https://localhost:8080/"
        },
        "id": "RDz4WJDwvk0k",
        "outputId": "108df82b-68ba-4880-cc1a-2c16402451f7"
      },
      "execution_count": null,
      "outputs": [
        {
          "output_type": "stream",
          "name": "stdout",
          "text": [
            "200\n"
          ]
        }
      ]
    },
    {
      "cell_type": "code",
      "source": [
        "print(response.content)"
      ],
      "metadata": {
        "colab": {
          "base_uri": "https://localhost:8080/"
        },
        "id": "DKf7PFsTEsYF",
        "outputId": "251639ac-a53c-4719-826c-bb37b3548c8d"
      },
      "execution_count": null,
      "outputs": [
        {
          "output_type": "stream",
          "name": "stdout",
          "text": [
            "b')]}\\'\\nwhatever && whatever([[[\"\\\\u043D\\\\u0430\\\\u049B\\\\u0442\\\\u044B \\\\u0441\\\\u0430\\\\u043D\\\\u003cb\\\\u003e\\\\u0434\\\\u0430\\\\u0440\\\\u003c\\\\/b\\\\u003e\",0,[512,19]],[\"\\\\u043D\\\\u0430\\\\u049B\\\\u0442\\\\u044B \\\\u0441\\\\u0430\\\\u043D\\\\u003cb\\\\u003e\\\\u0434\\\\u0430\\\\u0440 \\\\u0436\\\\u0438\\\\u044B\\\\u043D\\\\u044B\\\\u003c\\\\/b\\\\u003e\",0,[512,19]],[\"\\\\u043D\\\\u0430\\\\u049B\\\\u0442\\\\u044B \\\\u0441\\\\u0430\\\\u043D\\\\u003cb\\\\u003e\\\\u0434\\\\u0430\\\\u0440\\\\u0434\\\\u044B \\\\u0441\\\\u0430\\\\u043B\\\\u044B\\\\u0441\\\\u0442\\\\u044B\\\\u0440\\\\u044B\\\\u04A3\\\\u0434\\\\u0430\\\\u0440\\\\u003c\\\\/b\\\\u003e\",0,[512,19]],[\"\\\\u043D\\\\u0430\\\\u049B\\\\u0442\\\\u044B \\\\u0441\\\\u0430\\\\u043D\\\\u003cb\\\\u003e\\\\u0434\\\\u0430\\\\u0440 8 \\\\u0441\\\\u044B\\\\u043D\\\\u044B\\\\u043F \\\\u049B\\\\u043C\\\\u0436\\\\u003c\\\\/b\\\\u003e\",0,[512,19]],[\"\\\\u043D\\\\u0430\\\\u049B\\\\u0442\\\\u044B \\\\u0441\\\\u0430\\\\u043D\\\\u003cb\\\\u003e\\\\u0434\\\\u0430\\\\u0440\\\\u0434\\\\u044B \\\\u0441\\\\u0430\\\\u043B\\\\u044B\\\\u0441\\\\u0442\\\\u044B\\\\u0440\\\\u0443\\\\u003c\\\\/b\\\\u003e\",0,[512,19]],[\"\\\\u043D\\\\u0430\\\\u049B\\\\u0442\\\\u044B \\\\u0441\\\\u0430\\\\u043D\\\\u003cb\\\\u003e\\\\u0434\\\\u0430\\\\u0440 8 \\\\u0441\\\\u044B\\\\u043D\\\\u044B\\\\u043F\\\\u003c\\\\/b\\\\u003e\",0,[512,19]],[\"\\\\u043D\\\\u0430\\\\u049B\\\\u0442\\\\u044B \\\\u0441\\\\u0430\\\\u043D\\\\u003cb\\\\u003e\\\\u0434\\\\u0430\\\\u0440 \\\\u0436\\\\u0438\\\\u044B\\\\u043D\\\\u044B\\\\u043D\\\\u044B\\\\u04A3 \\\\u0442\\\\u043E\\\\u043B\\\\u044B\\\\u049B\\\\u0442\\\\u044B\\\\u0493\\\\u044B\\\\u003c\\\\/b\\\\u003e\",0,[512,19]],[\"\\\\u043D\\\\u0430\\\\u049B\\\\u0442\\\\u044B \\\\u0441\\\\u0430\\\\u043D\\\\u003cb\\\\u003e\\\\u0434\\\\u0430\\\\u0440 \\\\u0430\\\\u043A\\\\u0441\\\\u0438\\\\u043E\\\\u043C\\\\u0430\\\\u0441\\\\u044B\\\\u003c\\\\/b\\\\u003e\",0,[512,19]],[\"\\\\u043D\\\\u0430\\\\u049B\\\\u0442\\\\u044B \\\\u0441\\\\u0430\\\\u043D\\\\u003cb\\\\u003e \\\\u043C\\\\u044B\\\\u0441\\\\u0430\\\\u043B\\\\u003c\\\\/b\\\\u003e\",0,[512,19]],[\"\\\\u043D\\\\u0430\\\\u049B\\\\u0442\\\\u044B \\\\u0441\\\\u0430\\\\u043D\\\\u003cb\\\\u003e\\\\u043D\\\\u044B\\\\u04A3 \\\\u0430\\\\u0431\\\\u0441\\\\u043E\\\\u043B\\\\u044E\\\\u0442 \\\\u0448\\\\u0430\\\\u043C\\\\u0430\\\\u0441\\\\u044B\\\\u003c\\\\/b\\\\u003e\",0,[512,19]]],{\"i\":\"\\\\u041D\\\\u0430\\\\u049B\\\\u0442\\\\u044B \\\\u0441\\\\u0430\\\\u043D\",\"q\":\"M_naDczRMW0guY8gCHZr2UF6SUQ\"}])'\n"
          ]
        }
      ]
    },
    {
      "cell_type": "code",
      "source": [
        "def get_search(query):\n",
        "  secret_api_key = \"e650eb815b8a5ec39dd069a2eb2d3898dfa137c05949079edf028271199c090b\"\n",
        "  params = {\n",
        "    \"engine\": \"google_autocomplete\",\n",
        "    \"q\": query,\n",
        "    \"api_key\": secret_api_key\n",
        "  }\n",
        "  search = GoogleSearch(params)\n",
        "  results = search.get_dict()\n",
        "  suggestions = results[\"suggestions\"]\n",
        "  return suggestions"
      ],
      "metadata": {
        "id": "jvjboeNs_NYE"
      },
      "execution_count": 3,
      "outputs": []
    },
    {
      "cell_type": "code",
      "source": [
        "def list_search(queries):\n",
        "  final = []\n",
        "  for i in range(len(queries)):\n",
        "    result = get_search(queries[i])\n",
        "    out = []\n",
        "    for v in result:\n",
        "      out.append(v['value'])\n",
        "    final.append(out)\n",
        "  return final"
      ],
      "metadata": {
        "id": "dKGl5-s3zgg9"
      },
      "execution_count": 4,
      "outputs": []
    },
    {
      "cell_type": "code",
      "source": [
        "def format(inp):\n",
        "  return inp.split(',')"
      ],
      "metadata": {
        "id": "9rVNR5zDeXdc"
      },
      "execution_count": 24,
      "outputs": []
    },
    {
      "cell_type": "code",
      "source": [
        "queries = \"Квадрат теңсіздік, Рационал теңсіздік\"\n",
        "print(format(queries))"
      ],
      "metadata": {
        "colab": {
          "base_uri": "https://localhost:8080/"
        },
        "id": "yL79oTvTcVHg",
        "outputId": "40a27251-5c3a-49b7-83e5-6c10d306bd92"
      },
      "execution_count": 25,
      "outputs": [
        {
          "output_type": "stream",
          "name": "stdout",
          "text": [
            "['Квадрат теңсіздік', ' Рационал теңсіздік']\n"
          ]
        }
      ]
    },
    {
      "cell_type": "code",
      "source": [
        "res = list_search(format(queries))"
      ],
      "metadata": {
        "colab": {
          "base_uri": "https://localhost:8080/"
        },
        "id": "AgWhfIZBhZK1",
        "outputId": "31f5a269-7074-4025-dbd1-1f802a1f16ba"
      },
      "execution_count": 12,
      "outputs": [
        {
          "output_type": "stream",
          "name": "stdout",
          "text": [
            "https://serpapi.com/search\n",
            "https://serpapi.com/search\n"
          ]
        }
      ]
    },
    {
      "cell_type": "code",
      "source": [
        "df = pd.DataFrame(format(queries))\n",
        "df[\"search queries\"] = res\n",
        "\n",
        "#print(res)\n",
        "df['search queries'][1]\n"
      ],
      "metadata": {
        "colab": {
          "base_uri": "https://localhost:8080/"
        },
        "id": "qJGmEVnl9XLH",
        "outputId": "5ae3df7c-6cb3-4b38-d8ae-7db65db1d63f"
      },
      "execution_count": 33,
      "outputs": [
        {
          "output_type": "execute_result",
          "data": {
            "text/plain": [
              "['рационал теңсіздіктерді шешу',\n",
              " 'рационал теңсіздік',\n",
              " 'рационал теңсіздіктер',\n",
              " 'рационал теңсіздік. 7-сабақ',\n",
              " 'рационал теңсіздік. 6-сабақ',\n",
              " 'рационал теңсіздік. 5-сабақ',\n",
              " 'рационал теңсіздіктер есептер',\n",
              " 'рационал теңсіздіктер интервалдар әдісі']"
            ]
          },
          "metadata": {},
          "execution_count": 33
        }
      ]
    },
    {
      "cell_type": "markdown",
      "source": [
        "# Scraping Search Box Suggestion Results using Selenium"
      ],
      "metadata": {
        "id": "Zh8NhjgLaF8g"
      }
    },
    {
      "cell_type": "code",
      "source": [
        "!pip install selenium\n",
        "!apt install chromium-chromedriver"
      ],
      "metadata": {
        "colab": {
          "base_uri": "https://localhost:8080/"
        },
        "id": "gVv_uVcA_0KP",
        "outputId": "401eccad-559b-478e-9b8e-324c5995e5d9"
      },
      "execution_count": 4,
      "outputs": [
        {
          "output_type": "stream",
          "name": "stdout",
          "text": [
            "Looking in indexes: https://pypi.org/simple, https://us-python.pkg.dev/colab-wheels/public/simple/\n",
            "Requirement already satisfied: selenium in /usr/local/lib/python3.7/dist-packages (4.6.0)\n",
            "Requirement already satisfied: trio~=0.17 in /usr/local/lib/python3.7/dist-packages (from selenium) (0.22.0)\n",
            "Requirement already satisfied: trio-websocket~=0.9 in /usr/local/lib/python3.7/dist-packages (from selenium) (0.9.2)\n",
            "Requirement already satisfied: certifi>=2021.10.8 in /usr/local/lib/python3.7/dist-packages (from selenium) (2022.9.24)\n",
            "Requirement already satisfied: urllib3[socks]~=1.26 in /usr/local/lib/python3.7/dist-packages (from selenium) (1.26.12)\n",
            "Requirement already satisfied: attrs>=19.2.0 in /usr/local/lib/python3.7/dist-packages (from trio~=0.17->selenium) (22.1.0)\n",
            "Requirement already satisfied: exceptiongroup>=1.0.0rc9 in /usr/local/lib/python3.7/dist-packages (from trio~=0.17->selenium) (1.0.4)\n",
            "Requirement already satisfied: async-generator>=1.9 in /usr/local/lib/python3.7/dist-packages (from trio~=0.17->selenium) (1.10)\n",
            "Requirement already satisfied: sortedcontainers in /usr/local/lib/python3.7/dist-packages (from trio~=0.17->selenium) (2.4.0)\n",
            "Requirement already satisfied: sniffio in /usr/local/lib/python3.7/dist-packages (from trio~=0.17->selenium) (1.3.0)\n",
            "Requirement already satisfied: outcome in /usr/local/lib/python3.7/dist-packages (from trio~=0.17->selenium) (1.2.0)\n",
            "Requirement already satisfied: idna in /usr/local/lib/python3.7/dist-packages (from trio~=0.17->selenium) (2.10)\n",
            "Requirement already satisfied: wsproto>=0.14 in /usr/local/lib/python3.7/dist-packages (from trio-websocket~=0.9->selenium) (1.2.0)\n",
            "Requirement already satisfied: PySocks!=1.5.7,<2.0,>=1.5.6 in /usr/local/lib/python3.7/dist-packages (from urllib3[socks]~=1.26->selenium) (1.7.1)\n",
            "Requirement already satisfied: h11<1,>=0.9.0 in /usr/local/lib/python3.7/dist-packages (from wsproto>=0.14->trio-websocket~=0.9->selenium) (0.14.0)\n",
            "Requirement already satisfied: typing-extensions in /usr/local/lib/python3.7/dist-packages (from h11<1,>=0.9.0->wsproto>=0.14->trio-websocket~=0.9->selenium) (4.1.1)\n",
            "Reading package lists... Done\n",
            "Building dependency tree       \n",
            "Reading state information... Done\n",
            "The following package was automatically installed and is no longer required:\n",
            "  libnvidia-common-460\n",
            "Use 'apt autoremove' to remove it.\n",
            "The following additional packages will be installed:\n",
            "  chromium-browser chromium-browser-l10n chromium-codecs-ffmpeg-extra\n",
            "Suggested packages:\n",
            "  webaccounts-chromium-extension unity-chromium-extension\n",
            "The following NEW packages will be installed:\n",
            "  chromium-browser chromium-browser-l10n chromium-chromedriver\n",
            "  chromium-codecs-ffmpeg-extra\n",
            "0 upgraded, 4 newly installed, 0 to remove and 5 not upgraded.\n",
            "Need to get 95.1 MB of archives.\n",
            "After this operation, 319 MB of additional disk space will be used.\n",
            "Get:1 http://archive.ubuntu.com/ubuntu bionic-updates/universe amd64 chromium-codecs-ffmpeg-extra amd64 107.0.5304.87-0ubuntu11.18.04.1 [1,158 kB]\n",
            "Get:2 http://archive.ubuntu.com/ubuntu bionic-updates/universe amd64 chromium-browser amd64 107.0.5304.87-0ubuntu11.18.04.1 [83.1 MB]\n",
            "Get:3 http://archive.ubuntu.com/ubuntu bionic-updates/universe amd64 chromium-browser-l10n all 107.0.5304.87-0ubuntu11.18.04.1 [5,260 kB]\n",
            "Get:4 http://archive.ubuntu.com/ubuntu bionic-updates/universe amd64 chromium-chromedriver amd64 107.0.5304.87-0ubuntu11.18.04.1 [5,570 kB]\n",
            "Fetched 95.1 MB in 11s (8,904 kB/s)\n",
            "Selecting previously unselected package chromium-codecs-ffmpeg-extra.\n",
            "(Reading database ... 123991 files and directories currently installed.)\n",
            "Preparing to unpack .../chromium-codecs-ffmpeg-extra_107.0.5304.87-0ubuntu11.18.04.1_amd64.deb ...\n",
            "Unpacking chromium-codecs-ffmpeg-extra (107.0.5304.87-0ubuntu11.18.04.1) ...\n",
            "Selecting previously unselected package chromium-browser.\n",
            "Preparing to unpack .../chromium-browser_107.0.5304.87-0ubuntu11.18.04.1_amd64.deb ...\n",
            "Unpacking chromium-browser (107.0.5304.87-0ubuntu11.18.04.1) ...\n",
            "Selecting previously unselected package chromium-browser-l10n.\n",
            "Preparing to unpack .../chromium-browser-l10n_107.0.5304.87-0ubuntu11.18.04.1_all.deb ...\n",
            "Unpacking chromium-browser-l10n (107.0.5304.87-0ubuntu11.18.04.1) ...\n",
            "Selecting previously unselected package chromium-chromedriver.\n",
            "Preparing to unpack .../chromium-chromedriver_107.0.5304.87-0ubuntu11.18.04.1_amd64.deb ...\n",
            "Unpacking chromium-chromedriver (107.0.5304.87-0ubuntu11.18.04.1) ...\n",
            "Setting up chromium-codecs-ffmpeg-extra (107.0.5304.87-0ubuntu11.18.04.1) ...\n",
            "Setting up chromium-browser (107.0.5304.87-0ubuntu11.18.04.1) ...\n",
            "update-alternatives: using /usr/bin/chromium-browser to provide /usr/bin/x-www-browser (x-www-browser) in auto mode\n",
            "update-alternatives: using /usr/bin/chromium-browser to provide /usr/bin/gnome-www-browser (gnome-www-browser) in auto mode\n",
            "Setting up chromium-chromedriver (107.0.5304.87-0ubuntu11.18.04.1) ...\n",
            "Setting up chromium-browser-l10n (107.0.5304.87-0ubuntu11.18.04.1) ...\n",
            "Processing triggers for man-db (2.8.3-2ubuntu0.1) ...\n",
            "Processing triggers for hicolor-icon-theme (0.17-2) ...\n",
            "Processing triggers for mime-support (3.60ubuntu1) ...\n",
            "Processing triggers for libc-bin (2.27-3ubuntu1.6) ...\n"
          ]
        }
      ]
    },
    {
      "cell_type": "code",
      "source": [
        "import time, string \n",
        "import pandas as pd\n",
        "from selenium import webdriver\n",
        "from selenium.webdriver.chrome.options import Options\n",
        "from selenium.webdriver.common.by import By"
      ],
      "metadata": {
        "id": "s1GQjG72_53k"
      },
      "execution_count": 34,
      "outputs": []
    },
    {
      "cell_type": "code",
      "source": [
        "chrome_options = Options()\n",
        "chrome_options.add_argument('--headless')\n",
        "chrome_options.add_argument('--no-sandbox')\n",
        "chrome_options.add_argument('--disable-dev-shm-usage')\n",
        "driver = webdriver.Chrome('chromedriver',chrome_options=chrome_options)"
      ],
      "metadata": {
        "colab": {
          "base_uri": "https://localhost:8080/"
        },
        "id": "joNZ4ltzdfVV",
        "outputId": "bbac0784-be71-4871-80d9-b6ddaf10da87"
      },
      "execution_count": 35,
      "outputs": [
        {
          "output_type": "stream",
          "name": "stderr",
          "text": [
            "/usr/local/lib/python3.7/dist-packages/ipykernel_launcher.py:5: DeprecationWarning: use options instead of chrome_options\n",
            "  \"\"\"\n"
          ]
        }
      ]
    },
    {
      "cell_type": "code",
      "source": [
        "def get_search_suggestion(driver, keywords):\n",
        "  driver.get(\"https://google.com\") \n",
        "  search_form = driver.find_element(\"name\", \"q\")\n",
        "  suggestions = []\n",
        "  for keyword in keywords:\n",
        "    search_form.clear() \n",
        "    search_form.send_keys(keyword) \n",
        "    time.sleep(3) \n",
        "    list_box = driver.find_elements(By.CLASS_NAME, \"erkvQe\")\n",
        "    for item in list_box:         \n",
        "      suggestions.append(item.text.split('\\n'))\n",
        "  return suggestions"
      ],
      "metadata": {
        "id": "jGJiPQQiY7Pa"
      },
      "execution_count": 36,
      "outputs": []
    },
    {
      "cell_type": "code",
      "source": [
        "keywords = [\"теңдеулер жүйесі мәтінді есептер\"]\n",
        "out = get_search_suggestion(driver, keywords)\n",
        "print(out)"
      ],
      "metadata": {
        "colab": {
          "base_uri": "https://localhost:8080/"
        },
        "id": "ZlnJU5U5aRZJ",
        "outputId": "3dfc40e8-1f03-4c11-fa19-43f70561560c"
      },
      "execution_count": 38,
      "outputs": [
        {
          "output_type": "stream",
          "name": "stdout",
          "text": [
            "[['теңдеулер жүйесі арқылы мәтінді есептерді шығару', 'мәтінді есептерді теңдеулер жүйесі арқылы шығару 9 сынып', 'мәтінді есептерді теңдеулер жүйесі арқылы шешу 6 сынып']]\n"
          ]
        }
      ]
    },
    {
      "cell_type": "code",
      "source": [
        "df = pd.DataFrame({\"keyword\" : keywords})\n",
        "df[\"search suggestions\"] = out\n",
        "df.head()"
      ],
      "metadata": {
        "colab": {
          "base_uri": "https://localhost:8080/",
          "height": 112
        },
        "id": "dFIEHlSsdivy",
        "outputId": "76dbc70f-2fa5-46f7-f6d6-1f5bfbde686e"
      },
      "execution_count": 33,
      "outputs": [
        {
          "output_type": "execute_result",
          "data": {
            "text/plain": [
              "              keyword                                 search suggestions\n",
              "0    теңдеулер жүйесі  [теңдеулер жүйесін шешу, теңдеулер жүйесін шеш...\n",
              "1  Рационал теңсіздік  [рационал теңсіздік, рационал теңсіздіктер инт..."
            ],
            "text/html": [
              "\n",
              "  <div id=\"df-781dc6be-3a86-4b22-8a11-dda2725c3a23\">\n",
              "    <div class=\"colab-df-container\">\n",
              "      <div>\n",
              "<style scoped>\n",
              "    .dataframe tbody tr th:only-of-type {\n",
              "        vertical-align: middle;\n",
              "    }\n",
              "\n",
              "    .dataframe tbody tr th {\n",
              "        vertical-align: top;\n",
              "    }\n",
              "\n",
              "    .dataframe thead th {\n",
              "        text-align: right;\n",
              "    }\n",
              "</style>\n",
              "<table border=\"1\" class=\"dataframe\">\n",
              "  <thead>\n",
              "    <tr style=\"text-align: right;\">\n",
              "      <th></th>\n",
              "      <th>keyword</th>\n",
              "      <th>search suggestions</th>\n",
              "    </tr>\n",
              "  </thead>\n",
              "  <tbody>\n",
              "    <tr>\n",
              "      <th>0</th>\n",
              "      <td>теңдеулер жүйесі</td>\n",
              "      <td>[теңдеулер жүйесін шешу, теңдеулер жүйесін шеш...</td>\n",
              "    </tr>\n",
              "    <tr>\n",
              "      <th>1</th>\n",
              "      <td>Рационал теңсіздік</td>\n",
              "      <td>[рационал теңсіздік, рационал теңсіздіктер инт...</td>\n",
              "    </tr>\n",
              "  </tbody>\n",
              "</table>\n",
              "</div>\n",
              "      <button class=\"colab-df-convert\" onclick=\"convertToInteractive('df-781dc6be-3a86-4b22-8a11-dda2725c3a23')\"\n",
              "              title=\"Convert this dataframe to an interactive table.\"\n",
              "              style=\"display:none;\">\n",
              "        \n",
              "  <svg xmlns=\"http://www.w3.org/2000/svg\" height=\"24px\"viewBox=\"0 0 24 24\"\n",
              "       width=\"24px\">\n",
              "    <path d=\"M0 0h24v24H0V0z\" fill=\"none\"/>\n",
              "    <path d=\"M18.56 5.44l.94 2.06.94-2.06 2.06-.94-2.06-.94-.94-2.06-.94 2.06-2.06.94zm-11 1L8.5 8.5l.94-2.06 2.06-.94-2.06-.94L8.5 2.5l-.94 2.06-2.06.94zm10 10l.94 2.06.94-2.06 2.06-.94-2.06-.94-.94-2.06-.94 2.06-2.06.94z\"/><path d=\"M17.41 7.96l-1.37-1.37c-.4-.4-.92-.59-1.43-.59-.52 0-1.04.2-1.43.59L10.3 9.45l-7.72 7.72c-.78.78-.78 2.05 0 2.83L4 21.41c.39.39.9.59 1.41.59.51 0 1.02-.2 1.41-.59l7.78-7.78 2.81-2.81c.8-.78.8-2.07 0-2.86zM5.41 20L4 18.59l7.72-7.72 1.47 1.35L5.41 20z\"/>\n",
              "  </svg>\n",
              "      </button>\n",
              "      \n",
              "  <style>\n",
              "    .colab-df-container {\n",
              "      display:flex;\n",
              "      flex-wrap:wrap;\n",
              "      gap: 12px;\n",
              "    }\n",
              "\n",
              "    .colab-df-convert {\n",
              "      background-color: #E8F0FE;\n",
              "      border: none;\n",
              "      border-radius: 50%;\n",
              "      cursor: pointer;\n",
              "      display: none;\n",
              "      fill: #1967D2;\n",
              "      height: 32px;\n",
              "      padding: 0 0 0 0;\n",
              "      width: 32px;\n",
              "    }\n",
              "\n",
              "    .colab-df-convert:hover {\n",
              "      background-color: #E2EBFA;\n",
              "      box-shadow: 0px 1px 2px rgba(60, 64, 67, 0.3), 0px 1px 3px 1px rgba(60, 64, 67, 0.15);\n",
              "      fill: #174EA6;\n",
              "    }\n",
              "\n",
              "    [theme=dark] .colab-df-convert {\n",
              "      background-color: #3B4455;\n",
              "      fill: #D2E3FC;\n",
              "    }\n",
              "\n",
              "    [theme=dark] .colab-df-convert:hover {\n",
              "      background-color: #434B5C;\n",
              "      box-shadow: 0px 1px 3px 1px rgba(0, 0, 0, 0.15);\n",
              "      filter: drop-shadow(0px 1px 2px rgba(0, 0, 0, 0.3));\n",
              "      fill: #FFFFFF;\n",
              "    }\n",
              "  </style>\n",
              "\n",
              "      <script>\n",
              "        const buttonEl =\n",
              "          document.querySelector('#df-781dc6be-3a86-4b22-8a11-dda2725c3a23 button.colab-df-convert');\n",
              "        buttonEl.style.display =\n",
              "          google.colab.kernel.accessAllowed ? 'block' : 'none';\n",
              "\n",
              "        async function convertToInteractive(key) {\n",
              "          const element = document.querySelector('#df-781dc6be-3a86-4b22-8a11-dda2725c3a23');\n",
              "          const dataTable =\n",
              "            await google.colab.kernel.invokeFunction('convertToInteractive',\n",
              "                                                     [key], {});\n",
              "          if (!dataTable) return;\n",
              "\n",
              "          const docLinkHtml = 'Like what you see? Visit the ' +\n",
              "            '<a target=\"_blank\" href=https://colab.research.google.com/notebooks/data_table.ipynb>data table notebook</a>'\n",
              "            + ' to learn more about interactive tables.';\n",
              "          element.innerHTML = '';\n",
              "          dataTable['output_type'] = 'display_data';\n",
              "          await google.colab.output.renderOutput(dataTable, element);\n",
              "          const docLink = document.createElement('div');\n",
              "          docLink.innerHTML = docLinkHtml;\n",
              "          element.appendChild(docLink);\n",
              "        }\n",
              "      </script>\n",
              "    </div>\n",
              "  </div>\n",
              "  "
            ]
          },
          "metadata": {},
          "execution_count": 33
        }
      ]
    },
    {
      "cell_type": "code",
      "source": [
        "df.to_excel(\"suggestions.xlsx\")"
      ],
      "metadata": {
        "id": "3WS3trRQek5I"
      },
      "execution_count": null,
      "outputs": []
    }
  ]
}